{
 "cells": [
  {
   "cell_type": "code",
   "execution_count": null,
   "metadata": {},
   "outputs": [],
   "source": [
    "import pandas as pd\n",
    "import datetime\n",
    "now = datetime.date.today()\n",
    "path = \"C:\\\\Users\\\\Amine\\\\Desktop\\\\INPT\\\\INE2\\\\PFA\\\\noobchain_last\"\n",
    "data_wallet = pd.read_json (r'wallet.json').T\n",
    "data_wallet.sample(10)"
   ]
  },
  {
   "cell_type": "code",
   "execution_count": null,
   "metadata": {},
   "outputs": [],
   "source": [
    "data_transaction = pd.read_json (r'transaction.json').T\n",
    "data_transaction.sample(10)"
   ]
  },
  {
   "cell_type": "code",
   "execution_count": null,
   "metadata": {},
   "outputs": [],
   "source": [
    "from math import *\n",
    "import matplotlib.pyplot as plt\n",
    "import time\n",
    "import statistics\n",
    "\n",
    "timestamp = [(now - datetime.date.fromisoformat(item)).days for item in data_wallet['last_transaction']]\n",
    "data_wallet['timestamp']= timestamp\n",
    "data_wallet['timestamp'].apply(lambda x: float(x))\n",
    "data_wallet['balance'].apply(lambda x: float(x))\n",
    "\n",
    "T = statistics.median(data_wallet['timestamp'][1:])\n",
    "N = statistics.median(data_wallet['balance'][1:])\n",
    "\n",
    "def P(t):\n",
    "    return float(1/(1+exp(-(t-T)/2)))\n",
    "\n",
    "def F(x):\n",
    "    return 1-((2/pi)*atan(N*x))\n",
    "print(T)\n",
    "print(N)\n",
    "Lp = [P(item) for item in data_wallet['timestamp']]\n",
    "Lf = [F(item) for item in data_wallet['balance']]\n",
    "y = [i*j for i,j in zip(Lp,Lf)]  # likelihood\n",
    "data_wallet['proba'] = y\n",
    "result = data_wallet[data_wallet['proba']>0.4][['proba', 'name']].sort_values(by='proba', ascending = False)\n",
    "result\n",
    "ctr = 0\n",
    "for i in result['name']:\n",
    "    ctr += 1\n",
    "    print(\"The Wallet that is most likely to be lost N° \"+str(ctr)+\"\\t\"+i)\n",
    "plt.plot(data_wallet.id[1:], y[1:])\n",
    "plt.show()"
   ]
  }
 ],
 "metadata": {
  "kernelspec": {
   "display_name": "Python 3",
   "language": "python",
   "name": "python3"
  },
  "language_info": {
   "codemirror_mode": {
    "name": "ipython",
    "version": 3
   },
   "file_extension": ".py",
   "mimetype": "text/x-python",
   "name": "python",
   "nbconvert_exporter": "python",
   "pygments_lexer": "ipython3",
   "version": "3.7.7"
  }
 },
 "nbformat": 4,
 "nbformat_minor": 4
}
